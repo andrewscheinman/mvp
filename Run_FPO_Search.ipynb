{
 "cells": [
  {
   "cell_type": "markdown",
   "id": "1a41d107-cc91-4e27-bf09-5e3ba7f52018",
   "metadata": {},
   "source": [
    "# Jupyter Notebook to Search FreePatentsOnline.com"
   ]
  },
  {
   "cell_type": "markdown",
   "id": "dca5fa8e-7cb3-4af5-a913-7d846544c03f",
   "metadata": {},
   "source": [
    "This software is running a 'Jupyter Notebook' ([Jupyter](https://jupyter.org/)) using the free online platform 'Binder' ([Binder](https://mybinder.org/)).  This notebook and accompanying software is copyrighted by Andrew Scheinman and may not be distributed."
   ]
  },
  {
   "cell_type": "markdown",
   "id": "6c0f08ef-bf0a-4d44-be03-51d534fb9df6",
   "metadata": {},
   "source": [
    "The software used in this notebook works as follows:\n",
    "1. Devise a search string to search US published and issued patents, where the search string format is that of the underlying search platform, 'FreePatentsOnline' ([FPO Search Examples](https://www.freepatentsonline.com/search.html));\n",
    "2. Per FPO, 'Note that most fields support **Phrase (ABST/\"cardboard box\")**, **Proximity (ABST/\"cardboard box\"\\~5)**, **Wildcard (ABST/card\\*)**, and **Leading Wildcard (ABST/\\*ectomy)** queries. Some fields support range queries and math operations.'\n",
    "3. Inventor Search --> **'in/\"john smith\"'** ('john smith' in inventor ('in') field; **'in/\"john smith\"~5'** ('john' within 5 of 'smith' in inventor field);\n",
    "4. Term Search --> **'ectoplasm'** (term anywhere in patent application or issued US patent); **'aclm/ectoplasm'** (term in any of the claims ('aclm')); **'\"viscous ectoplasm\"\\~5'** (the two terms within 5 of one another); **'aclm/\"viscous ectoplasm\"\\~5'** (two terms within 5 within the claims);\n",
    "5. Specify the search_string and **any already-know 'relevant' US patent documents ('sentinels')** and run the search using the 'fpo.search_fpo(search_string,list_sentinels)' command (enclose the search string and individual sentinel numbers in single quotes as shown below):\n",
    "\n",
    "```\n",
    "            search_string = 'aclm/\"viscous ectoplasm\"\\~5'\n",
    "            list_sentinels = ['20200321613','20200321614','20210130188']\n",
    "            fpo.search_fpo(search_string,list_sentinels)\n",
    "```"
   ]
  },
  {
   "cell_type": "code",
   "execution_count": 3,
   "id": "7cf9a89c-e12f-4f52-8d6f-5423eaa7d538",
   "metadata": {},
   "outputs": [
    {
     "ename": "ModuleNotFoundError",
     "evalue": "No module named 'fpo_search_routines'",
     "output_type": "error",
     "traceback": [
      "\u001b[1;31m---------------------------------------------------------------------------\u001b[0m",
      "\u001b[1;31mModuleNotFoundError\u001b[0m                       Traceback (most recent call last)",
      "\u001b[1;32m<ipython-input-3-6f3619a52ded>\u001b[0m in \u001b[0;36m<module>\u001b[1;34m\u001b[0m\n\u001b[0;32m      1\u001b[0m \u001b[1;31m# Leave the next line alone,\u001b[0m\u001b[1;33m\u001b[0m\u001b[1;33m\u001b[0m\u001b[1;33m\u001b[0m\u001b[0m\n\u001b[0;32m      2\u001b[0m \u001b[1;31m# it's required to load the software:\u001b[0m\u001b[1;33m\u001b[0m\u001b[1;33m\u001b[0m\u001b[1;33m\u001b[0m\u001b[0m\n\u001b[1;32m----> 3\u001b[1;33m \u001b[1;32mimport\u001b[0m \u001b[0mfpo_search_routines\u001b[0m \u001b[1;32mas\u001b[0m \u001b[0mfpo\u001b[0m\u001b[1;33m\u001b[0m\u001b[1;33m\u001b[0m\u001b[0m\n\u001b[0m\u001b[0;32m      4\u001b[0m \u001b[1;31m####################################\u001b[0m\u001b[1;33m\u001b[0m\u001b[1;33m\u001b[0m\u001b[1;33m\u001b[0m\u001b[0m\n\u001b[0;32m      5\u001b[0m \u001b[1;33m\u001b[0m\u001b[0m\n",
      "\u001b[1;31mModuleNotFoundError\u001b[0m: No module named 'fpo_search_routines'"
     ]
    }
   ],
   "source": [
    "# Leave the next line alone,\n",
    "# it's required to load the software:\n",
    "import fpo_search_routines as fpo\n",
    "####################################\n",
    "\n",
    "# 1. Replace the search_string with your search string; make sure to use the enclosing single quotes:\n",
    "search_string = 'aclm/metastable and aclm/vanadium'\n",
    "\n",
    "# 2. If there are no already-know 'relevant' US documents, use\n",
    "# list_sentinels = []\n",
    "list_sentinels = ['20200321613','20200321614','20210130188']\n",
    "\n",
    "# 3. This runs the search, the usual jupyter method of running a cell is shift-enter:\n",
    "fpo.search_fpo(search_string,list_sentinels)"
   ]
  },
  {
   "cell_type": "code",
   "execution_count": null,
   "id": "3a38b54f-7005-420f-ad34-4a4c5404d02a",
   "metadata": {},
   "outputs": [],
   "source": []
  }
 ],
 "metadata": {
  "kernelspec": {
   "display_name": "Python 3",
   "language": "python",
   "name": "python3"
  },
  "language_info": {
   "codemirror_mode": {
    "name": "ipython",
    "version": 3
   },
   "file_extension": ".py",
   "mimetype": "text/x-python",
   "name": "python",
   "nbconvert_exporter": "python",
   "pygments_lexer": "ipython3",
   "version": "3.8.11"
  }
 },
 "nbformat": 4,
 "nbformat_minor": 5
}
