import pandas
df = pd.DataFrame()
print(len(df))
