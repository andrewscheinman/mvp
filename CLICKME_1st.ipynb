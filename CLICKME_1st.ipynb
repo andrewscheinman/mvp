{
 "cells": [
  {
   "cell_type": "markdown",
   "id": "1a41d107-cc91-4e27-bf09-5e3ba7f52018",
   "metadata": {},
   "source": [
    "# Jupyter Notebook to Search FreePatentsOnline.com"
   ]
  },
  {
   "cell_type": "markdown",
   "id": "dca5fa8e-7cb3-4af5-a913-7d846544c03f",
   "metadata": {},
   "source": [
    "This software is running a 'Jupyter Notebook' ([Jupyter](https://jupyter.org/)) using the free online platform 'Binder' ([Binder](https://mybinder.org/)).  This notebook and accompanying software is copyrighted by Andrew Scheinman and may not be distributed.\n",
    "\n",
    "You can 'run' all cells with the double arrow up at the top; you can run a single cell with CTRL-ENTER"
   ]
  },
  {
   "cell_type": "markdown",
   "id": "6c0f08ef-bf0a-4d44-be03-51d534fb9df6",
   "metadata": {},
   "source": [
    "The software used in this notebook works as follows:\n",
    "\n",
    "1. Devise a search string to search US published and issued patents, where the search string format is that of the underlying search platform, 'FreePatentsOnline' ([FPO Search Examples](https://www.freepatentsonline.com/search.html));\n",
    "2. Per FPO, 'Note that most fields support **Phrase (ABST/\"cardboard box\")**, **Proximity (ABST/\"cardboard box\"\\~5)**, **Wildcard (ABST/card\\*)**, and **Leading Wildcard (ABST/\\*ectomy)** queries. Some fields support range queries and math operations.'\n",
    "3. Inventor Search --> **'in/\"john smith\"'** ('john smith' in inventor ('in') field; **'in/\"john smith\"~5'** ('john' within 5 of 'smith' in inventor field);\n",
    "4. Term Search --> **'ectoplasm'** (term anywhere in patent application or issued US patent); **'aclm/ectoplasm'** (term in any of the claims ('aclm')); **'\"viscous ectoplasm\"\\~5'** (the two terms within 5 of one another); **'aclm/\"viscous ectoplasm\"\\~5'** (two terms within 5 within the claims);\n",
    "5. Specify the search_string and **any already-know 'relevant' US patent documents ('positive controls')** and run the search using the 'fpo.search_fpo(search_string,list_controls)' command (enclose the search string and individual control numbers in single quotes as shown below):\n",
    "\n",
    "```\n",
    "            search_string = 'aclm/\"viscous ectoplasm\"~5'\n",
    "            list_controls = ['20200321613','20200321614','20210130188']\n",
    "            fpo.search_fpo(search_string,list_controls)\n",
    "```"
   ]
  },
  {
   "cell_type": "markdown",
   "id": "25e0f461-e585-4f0c-ac44-03360777367b",
   "metadata": {},
   "source": [
    "# Run The Following"
   ]
  },
  {
   "source": [
    "'Running' means clicking on the **double-arrow** in the menu bar:<br>\n",
    "![Untitled](https://user-images.githubusercontent.com/12629853/131710520-ec3d2406-a641-4337-9156-1a6a757e866d.png)"
   ],
   "cell_type": "markdown",
   "metadata": {}
  },
  {
   "cell_type": "markdown",
   "id": "a62a1f4a-4ba9-49f2-9b9e-fe9e82e94e72",
   "metadata": {},
   "source": [
    "1. Leave the next line unchanged; it's required to load the software"
   ]
  },
  {
   "cell_type": "code",
   "execution_count": 1,
   "id": "79c8a787-fdbe-48ac-b56f-69ede0f937b0",
   "metadata": {},
   "outputs": [],
   "source": [
    "import fpo_searching as fpo"
   ]
  },
  {
   "cell_type": "markdown",
   "id": "0b2d269c-1fea-44b8-b3a6-248aadc5abf3",
   "metadata": {},
   "source": [
    "2. Replace the search_string with your search string; make sure to use the enclosing single quotes.  See [FPO Search Examples](https://www.freepatentsonline.com/search.html) for example search syntaxes:"
   ]
  },
  {
   "cell_type": "code",
   "execution_count": 2,
   "id": "8f91b814-3e87-4f46-bc25-9901c438fd48",
   "metadata": {},
   "outputs": [],
   "source": [
    "search_string = 'aclm/metastable and aclm/vanadium'"
   ]
  },
  {
   "cell_type": "markdown",
   "id": "a4b7113f-cd5c-41f6-bef6-0ea223805e06",
   "metadata": {},
   "source": [
    "3. **Positive Controls** -- If there are no already-know 'relevant' US documents, use list_controls = []"
   ]
  },
  {
   "cell_type": "code",
   "execution_count": 3,
   "id": "76719bb1-970d-4578-9993-9874d470dc29",
   "metadata": {},
   "outputs": [],
   "source": [
    "list_controls = ['20200321613','20200321614','20210130188']"
   ]
  },
  {
   "cell_type": "markdown",
   "id": "7c94622b-3667-42a7-b584-f9e5547312bc",
   "metadata": {},
   "source": [
    "4. Running the next cell causes the program to go online and get the information, note that only the first 250 hits are downloaded and analyzed, and that the hits are in order of 'relevance'."
   ]
  },
  {
   "cell_type": "code",
   "execution_count": 6,
   "id": "7cf9a89c-e12f-4f52-8d6f-5423eaa7d538",
   "metadata": {},
   "outputs": [
    {
     "output_type": "stream",
     "name": "stdout",
     "text": [
      "... aclm/metastable and aclm/vanadium ... 55 hits\n",
      "(MAXIMUM HITS RETRIEVED FOR FURTHER PROCESSING AND DISPLAY IS \"TOP\" 250 HITS)\n",
      "20200321613 NOT hit\n",
      "20200321614 hit as result number: 8\n",
      "20210130188 hit as result number: 32\n"
     ]
    },
    {
     "output_type": "display_data",
     "data": {
      "text/plain": "<IPython.core.display.HTML object>",
      "text/html": "<table border=\"1\" class=\"dataframe\">\n  <thead>\n    <tr style=\"text-align: right;\">\n      <th></th>\n      <th>link</th>\n      <th>title</th>\n      <th>abstract</th>\n      <th>FPO score</th>\n    </tr>\n  </thead>\n  <tbody>\n    <tr>\n      <th>1</th>\n      <td><a href=\"https://patents.google.com/patent/US20080199350\" target=\"_blank\">US20080199350</a></td>\n      <td>Metastable beta-titanium alloy</td>\n      <td>Metastable β-titanium alloy contains, in mass %: from 1.5 to 3.5 aluminum; from 4.5 to 8.0 molybdenum; from 1.0 to 3.5 vanadium; from 1.5 to 3.8 iron; titanium balance. This alloy combines high...</td>\n      <td>999</td>\n    </tr>\n    <tr>\n      <th>2</th>\n      <td><a href=\"https://patents.google.com/patent/US20200232094\" target=\"_blank\">US20200232094</a></td>\n      <td>NUCLEAR COMPONENT WITH METASTABLE CR COATING, DLI-MOCVD METHOD FOR PRODUCING SAME, AND USES FOR CONTROLLING OXIDATION/HYDRIDATION</td>\n      <td>Process for manufacturing a nuclear component comprising i) a support containing a substrate based on a metal (1), the substrate (1) being coated or not coated with an interposed layer (3)...</td>\n      <td>871</td>\n    </tr>\n    <tr>\n      <th>3</th>\n      <td><a href=\"https://patents.google.com/patent/US20060039819\" target=\"_blank\">US20060039819</a></td>\n      <td>Metastable beta-titanium alloy</td>\n      <td>Metastable β-titanium alloy contains, in mass %: from 1.5 to 3.5 aluminum; from 4.5 to 8.0 molybdenum; from 1.0 to 3.5 vanadium; from 1.5 to 3.8 iron; titanium balance. This alloy combines high...</td>\n      <td>844</td>\n    </tr>\n    <tr>\n      <th>4</th>\n      <td><a href=\"https://patents.google.com/patent/US4347076\" target=\"_blank\">US4347076</a></td>\n      <td>Aluminum-transition metal alloys made using rapidly solidified powers and method</td>\n      <td>A method of fabricating aluminum alloys containing finely dispersed aluminum-transition metal intermetallic phases is disclosed. The alloys are subjected to melt spinning to form a brittle...</td>\n      <td>840</td>\n    </tr>\n    <tr>\n      <th>5</th>\n      <td><a href=\"https://patents.google.com/patent/US4851206\" target=\"_blank\">US4851206</a></td>\n      <td>Methods and compostions involving high specific surface area carbides and nitrides</td>\n      <td>Methods and compostions produced thereby are provided concerning the preparation and use of high specific surface area carbides and nitrides. The carbides and nitrides can be obtained by thermal...</td>\n      <td>832</td>\n    </tr>\n    <tr>\n      <th>6</th>\n      <td><a href=\"https://patents.google.com/patent/US10889506\" target=\"_blank\">US10889506</a></td>\n      <td>Vanadium oxide for infrared coatings and methods thereof</td>\n      <td>The present invention relates to vanadium oxide and methods of controlling reaction processes for making such materials (e.g., powders). In particular embodiments, the method includes control of...</td>\n      <td>831</td>\n    </tr>\n    <tr>\n      <th>7</th>\n      <td><a href=\"https://patents.google.com/patent/US5135589\" target=\"_blank\">US5135589</a></td>\n      <td>Metastable hydrogen storage alloy material</td>\n      <td>Disclosed is an improved metastable, multi-component, multi-phase hydrogen storage alloy material formed by rapid solidifcation from a melt. The improved metastable hydrogen storage alloy is...</td>\n      <td>821</td>\n    </tr>\n    <tr>\n      <th>8</th>\n      <td><a href=\"https://patents.google.com/patent/US20200321614\" target=\"_blank\">US20200321614</a></td>\n      <td><!DOCTYPE html><html><head><style>.greenbackground {background-color: green;}</style></head><div class=\"greenbackground\">SYNTHESIS OF A METASTABLE VANADIUM PENTOXIDE AS A CATHODE MATERIAL FOR ION BATTERIES</div></td>\n      <td>A highly scalable process has been developed for stabilizing large quantities of the zeta-polymorph of V2O5, a metastable kinetically trapped phase, with high compositional and phase purity. The...</td>\n      <td>820</td>\n    </tr>\n    <tr>\n      <th>9</th>\n      <td><a href=\"https://patents.google.com/patent/US4745977\" target=\"_blank\">US4745977</a></td>\n      <td>Method for resisting corrosion in geothermal fluid handling systems</td>\n      <td>A method for resisting corrosion while conducting a flow of hot corrosive geothermal fluid, particularly brine, comprises flowing the fluid through fluid flow conducting elements, such as...</td>\n      <td>814</td>\n    </tr>\n    <tr>\n      <th>10</th>\n      <td><a href=\"https://patents.google.com/patent/US20190071319\" target=\"_blank\">US20190071319</a></td>\n      <td>VANADIUM OXIDE FOR INFRARED COATINGS AND METHODS THEREOF</td>\n      <td>The present invention relates to vanadium oxide and methods of controlling reaction processes for making such materials (e.g., powders). In particular embodiments, the method includes control of...</td>\n      <td>812</td>\n    </tr>\n    <tr>\n      <th>11</th>\n      <td><a href=\"https://patents.google.com/patent/US5288346\" target=\"_blank\">US5288346</a></td>\n      <td>Process for producing deformable white cast iron</td>\n      <td>A process for deforming white cast iron. A melt is prepared containing iron, carbon and one or more alloying elements. The melt is cooled at a rate of approximately 2° C. per minute or faster to...</td>\n      <td>805</td>\n    </tr>\n    <tr>\n      <th>12</th>\n      <td><a href=\"https://patents.google.com/patent/US5439535\" target=\"_blank\">US5439535</a></td>\n      <td>Process for improving strength and plasticity of wear-resistant white irons</td>\n      <td>Composition and process for the manufacture of wear-resistant white iron, and articles made therefrom. A melt is solidified that contains iron, carbon and at least two carbide forming elements...</td>\n      <td>781</td>\n    </tr>\n    <tr>\n      <th>13</th>\n      <td><a href=\"https://patents.google.com/patent/US20170100744\" target=\"_blank\">US20170100744</a></td>\n      <td>Electronic Component and Process of Producing Electronic Component</td>\n      <td>Electronic components and processes of producing electronic components are disclosed. The electronic component includes a substrate, a first layer on the substrate, a rapidly solidified layer on...</td>\n      <td>730</td>\n    </tr>\n    <tr>\n      <th>14</th>\n      <td><a href=\"https://patents.google.com/patent/US5421917\" target=\"_blank\">US5421917</a></td>\n      <td>Titanium-based alloy produced by vapor quenching</td>\n      <td>An alloy based on titanium and containing 0.5 to 30% by weight of magnesium, calcium or lithium is produced by vapor quenching to yield a metastable solid solution of solute in titanium....</td>\n      <td>702</td>\n    </tr>\n    <tr>\n      <th>15</th>\n      <td><a href=\"https://patents.google.com/patent/US8611133\" target=\"_blank\">US8611133</a></td>\n      <td>Stateful negative differential resistance devices</td>\n      <td>A stateful negative differential resistance device includes a first conductive electrode and a second conductive electrode. The device also includes a first material with a reversible, nonvolatile...</td>\n      <td>692</td>\n    </tr>\n    <tr>\n      <th>16</th>\n      <td><a href=\"https://patents.google.com/patent/US20130176766\" target=\"_blank\">US20130176766</a></td>\n      <td>STATEFUL NEGATIVE DIFFERENTIAL RESISTANCE DEVICES</td>\n      <td>A stateful negative differential resistance device includes a first conductive electrode and a second conductive electrode. The device also includes a first material with a reversible, nonvolatile...</td>\n      <td>680</td>\n    </tr>\n    <tr>\n      <th>17</th>\n      <td><a href=\"https://patents.google.com/patent/US20130155572\" target=\"_blank\">US20130155572</a></td>\n      <td>Metal-Insulator-Metal Stack and Method for Manufacturing the Same</td>\n      <td>A method for manufacturing a metal-insulator-metal (MIM) stack is described. The method includes forming a temporary stack by depositing a bottom electrode comprising at least one metal layer;...</td>\n      <td>653</td>\n    </tr>\n    <tr>\n      <th>18</th>\n      <td><a href=\"https://patents.google.com/patent/US11104994\" target=\"_blank\">US11104994</a></td>\n      <td>Nuclear component with metastable Cr coating, DLI-MOCVD method for producing same, and uses for controlling oxidation/hydridation</td>\n      <td>Process for manufacturing a nuclear component that includes i) a support containing a substrate based on a metal, the substrate being coated or not coated with an interposed layer positioned...</td>\n      <td>645</td>\n    </tr>\n    <tr>\n      <th>19</th>\n      <td><a href=\"https://patents.google.com/patent/US20150037231\" target=\"_blank\">US20150037231</a></td>\n      <td>GAS STREAM MULTI-POLLUTANTS CONTROL SYSTEMS AND METHODS</td>\n      <td>In some embodiments, the invention provides systems and methods for removing carbon dioxide and/or additional components of waste gas streams, comprising contacting the waste gas stream with an...</td>\n      <td>644</td>\n    </tr>\n    <tr>\n      <th>20</th>\n      <td><a href=\"https://patents.google.com/patent/US4951297\" target=\"_blank\">US4951297</a></td>\n      <td>Chemical process yielding stimulated emission of visible radiation via fast near resonant energy transfer</td>\n      <td>A chemical process yielding stimulated emission of visible radiation via fast rear resonant intermolecular energy transfer comprising the steps of reacting a first metal or semimetal vapor with a...</td>\n      <td>635</td>\n    </tr>\n    <tr>\n      <th>21</th>\n      <td><a href=\"https://patents.google.com/patent/US20190119770\" target=\"_blank\">US20190119770</a></td>\n      <td>ULTRA HIGH-STRENGTH AND HIGH-DUCTILITY STEEL SHEET HAVING EXCELLENT YIELD RATIO AND MANUFACTURING METHOD THEREFOR</td>\n      <td>Provided is an ultrahigh-strength steel sheet for a vehicle and, more specifically, to an ultrahigh-strength and high-ductility steel sheet having excellent yield ratio and a manufacturing method...</td>\n      <td>625</td>\n    </tr>\n    <tr>\n      <th>22</th>\n      <td><a href=\"https://patents.google.com/patent/US20180186701\" target=\"_blank\">US20180186701</a></td>\n      <td>CERAMIC COMPOSITE AND PRODUCTION METHOD THEREOF</td>\n      <td>A black ceramic composite coating is presented. The ceramic composite coating comprises a ceramic matrix having embedded therein carbide nanoparticles (in particular metal carbide nanoparticles)...</td>\n      <td>616</td>\n    </tr>\n    <tr>\n      <th>23</th>\n      <td><a href=\"https://patents.google.com/patent/US20140178747\" target=\"_blank\">US20140178747</a></td>\n      <td>COMPOSITE ELECTRODE MATERIAL OF LITHIUM SECONDARY BATTERY AND LITHIUM SECONDARY BATTERY</td>\n      <td>A composite electrode material of a lithium secondary battery and a lithium secondary battery are provided. The composite electrode material of the lithium secondary battery at least includes an...</td>\n      <td>608</td>\n    </tr>\n    <tr>\n      <th>24</th>\n      <td><a href=\"https://patents.google.com/patent/US10710935\" target=\"_blank\">US10710935</a></td>\n      <td>Ceramic composite and production method thereof</td>\n      <td>A black ceramic composite coating is presented. The ceramic composite coating comprises a ceramic matrix having embedded therein carbide nanoparticles (in particular metal carbide nanoparticles)...</td>\n      <td>601</td>\n    </tr>\n    <tr>\n      <th>25</th>\n      <td><a href=\"https://patents.google.com/patent/US9496547\" target=\"_blank\">US9496547</a></td>\n      <td>Composite electrode material of lithium secondary battery and lithium secondary battery</td>\n      <td>A composite electrode material of a lithium secondary battery and a lithium secondary battery are provided. The composite electrode material of the lithium secondary battery at least includes an...</td>\n      <td>598</td>\n    </tr>\n    <tr>\n      <th>26</th>\n      <td><a href=\"https://patents.google.com/patent/US6380627\" target=\"_blank\">US6380627</a></td>\n      <td>Low resistance barrier layer for isolating, adhering, and passivating copper metal in semiconductor fabrication</td>\n      <td>Cubic or metastable cubic refractory metal carbides act as barrier layers to isolate, adhere, and passivate copper in semiconductor fabrication. One or more barrier layers of the metal carbide are...</td>\n      <td>588</td>\n    </tr>\n    <tr>\n      <th>27</th>\n      <td><a href=\"https://patents.google.com/patent/US5020071\" target=\"_blank\">US5020071</a></td>\n      <td>Chemical process yielding stimulating emission of visible radiation via fast near resonant energy transfer</td>\n      <td>A laser oscillator at 535 nm produced by a chemical process yielding stimulated emission of visible radiation via fast near resonant intermolecular energy transfer comprising the steps of reacting...</td>\n      <td>583</td>\n    </tr>\n    <tr>\n      <th>28</th>\n      <td><a href=\"https://patents.google.com/patent/US20200020456\" target=\"_blank\">US20200020456</a></td>\n      <td>COMPOSITE NUCLEAR COMPONENT, DLI-MOCVD METHOD FOR PRODUCING SAME, AND USES FOR CONTROLLING OXIDATION/HYDRIDATION</td>\n      <td>Process for manufacturing a composite nuclear component comprising i) a support containing a substrate comprising a metallic material and a ceramic material (1), the substrate (1) being coated or...</td>\n      <td>577</td>\n    </tr>\n    <tr>\n      <th>29</th>\n      <td><a href=\"https://patents.google.com/patent/US6339020\" target=\"_blank\">US6339020</a></td>\n      <td>Method for forming a barrier layer</td>\n      <td>Cubic or metastable cubic refractory metal carbides act as barrier layers to isolate, adhere, and passivate copper in semiconductor fabrication. One or more barrier layers of the metal carbide are...</td>\n      <td>539</td>\n    </tr>\n    <tr>\n      <th>30</th>\n      <td><a href=\"https://patents.google.com/patent/US6028977\" target=\"_blank\">US6028977</a></td>\n      <td>All-optical, flat-panel display system</td>\n      <td>An all-optical flat panel display system is based on the generation of photoluminescence within a doped, optical waveguide display matrix. Color photoluminescence is produced through an infrared,...</td>\n      <td>534</td>\n    </tr>\n    <tr>\n      <th>31</th>\n      <td><a href=\"https://patents.google.com/patent/US5138432\" target=\"_blank\">US5138432</a></td>\n      <td>Selective deposition of tungsten on TiSi2</td>\n      <td>An improved process for preparing selective deposition of conductive metals on disilicide encroachment barriers allows the construction of integrated circuit components wherein the...</td>\n      <td>520</td>\n    </tr>\n    <tr>\n      <th>32</th>\n      <td><a href=\"https://patents.google.com/patent/US20210130188\" target=\"_blank\">US20210130188</a></td>\n      <td><!DOCTYPE html><html><head><style>.greenbackground {background-color: green;}</style></head><div class=\"greenbackground\">QUANTUM MATERIAL/VANADIUM OXIDE HETEROSTRUCTURES, METHODS OF MAKING SAME, AND USES THEREOF</div></td>\n      <td>The subject invention pertains to the synthesis and characterization of V2O5/CdE NW/QD heterostructures. The V2O5/CdE heterostructures are versatile new materials constructs for light harvesting,...</td>\n      <td>514</td>\n    </tr>\n    <tr>\n      <th>33</th>\n      <td><a href=\"https://patents.google.com/patent/US5352537\" target=\"_blank\">US5352537</a></td>\n      <td>Plasma sprayed continuously reinforced aluminum base composites</td>\n      <td>A metal matrix composite is produced by forming a rapidly solidified aluminum base alloy into powder. The powder is plasma sprayed onto at least one substrate having thereon a fiber reinforcing...</td>\n      <td>498</td>\n    </tr>\n    <tr>\n      <th>34</th>\n      <td><a href=\"https://patents.google.com/patent/US5023201\" target=\"_blank\">US5023201</a></td>\n      <td>Selective deposition of tungsten on TiSi2</td>\n      <td>An improved process for preparing selective deposition of conductive metals on disilicide encroachment barriers allows the construction of integrated circuit components wherein the...</td>\n      <td>497</td>\n    </tr>\n    <tr>\n      <th>35</th>\n      <td><a href=\"https://patents.google.com/patent/US7611988\" target=\"_blank\">US7611988</a></td>\n      <td>Defectivity and process control of electroless deposition in microelectronics applications</td>\n      <td>Methods and compositions for electrolessly depositing Co, Ni, or alloys thereof onto a substrate in manufacture of microelectronic devices. Grain refiners, levelers, oxygen scavengers, and...</td>\n      <td>483</td>\n    </tr>\n    <tr>\n      <th>36</th>\n      <td><a href=\"https://patents.google.com/patent/US20080073004\" target=\"_blank\">US20080073004</a></td>\n      <td>PROCESS OF USING A CHROMIUM STEEL AS RAW MATERIAL FOR CORROSION-RESISTANT SPRING ELEMENTS</td>\n      <td>A ferritic chromium steel comprising, by weight-%, 0.03 to 0.1% of carbon, 0.2 to 0.9% of silicon, 0.3 to 1% of manganese, 13 to 20% of chromium, up to 0.5% of nickel, 0.1 to 1.5% of molybdenum,...</td>\n      <td>470</td>\n    </tr>\n    <tr>\n      <th>37</th>\n      <td><a href=\"https://patents.google.com/patent/US20170338021\" target=\"_blank\">US20170338021</a></td>\n      <td>Beta tungsten thin films with giant spin Hall effect for use in compositions and structures with perpendicular magnetic anisotropy</td>\n      <td>Methods, devices, and compositions for use with spintronic devices such as magnetic random access memory (MRAM) and spin-logic devices are provided. Methods include manipulating magnetization...</td>\n      <td>470</td>\n    </tr>\n    <tr>\n      <th>38</th>\n      <td><a href=\"https://patents.google.com/patent/US20070062408\" target=\"_blank\">US20070062408</a></td>\n      <td>Defectivity and process control of electroless deposition in microelectronics applications</td>\n      <td>Methods and compositions for electrolessly depositing Co, Ni, or alloys thereof onto a substrate in manufacture of microelectronic devices. Grain refiners, levelers, oxygen scavengers, and...</td>\n      <td>457</td>\n    </tr>\n    <tr>\n      <th>39</th>\n      <td><a href=\"https://patents.google.com/patent/US10907230\" target=\"_blank\">US10907230</a></td>\n      <td>Ultra high-strength and high-ductility steel sheet having excellent yield ratio and manufacturing method therefor</td>\n      <td>Provided is an ultrahigh-strength steel sheet for a vehicle and, more specifically, to an ultrahigh-strength and high-ductility steel sheet having excellent yield ratio and a manufacturing method...</td>\n      <td>433</td>\n    </tr>\n    <tr>\n      <th>40</th>\n      <td><a href=\"https://patents.google.com/patent/US7575418\" target=\"_blank\">US7575418</a></td>\n      <td>Erosion and wear resistant protective structures for turbine components</td>\n      <td>Disclosed herein is a turbine component comprising a substrate; and a protective structure formed on the substrate, wherein the protective structure comprises an α-β titanium alloy, a β-titanium...</td>\n      <td>431</td>\n    </tr>\n    <tr>\n      <th>41</th>\n      <td><a href=\"https://patents.google.com/patent/US4160854\" target=\"_blank\">US4160854</a></td>\n      <td>Ductile brazing foil for cast superalloys</td>\n      <td>Cast superalloys of the formula Px Qy Rz wherein P is an element selected from the group consisting of Fe, Ni, Cr, Co or mixtures thereof, wherein Q is a refractory element selected from the group...</td>\n      <td>426</td>\n    </tr>\n    <tr>\n      <th>42</th>\n      <td><a href=\"https://patents.google.com/patent/US6414247\" target=\"_blank\">US6414247</a></td>\n      <td>Glass ceramic board</td>\n      <td>A glass ceramic multilayer circuit board uses Ag as a conductive material, in which oxidation and diffusion of silver are suppressed. The glass ceramic multilayer circuit board is formed by...</td>\n      <td>421</td>\n    </tr>\n    <tr>\n      <th>43</th>\n      <td><a href=\"https://patents.google.com/patent/US9431474\" target=\"_blank\">US9431474</a></td>\n      <td>Metal-insulator-metal stack and method for manufacturing the same</td>\n      <td>A method for manufacturing a metal-insulator-metal (MIM) stack is described. The method includes forming a temporary stack by depositing a bottom electrode comprising at least one metal layer;...</td>\n      <td>408</td>\n    </tr>\n    <tr>\n      <th>44</th>\n      <td><a href=\"https://patents.google.com/patent/US20060105194\" target=\"_blank\">US20060105194</a></td>\n      <td>Defect healing of deposited titanium alloys</td>\n      <td>A method for treating a deposited titanium-base material from an initial condition to a treated condition includes a rapid heating and a rapid cooling. The heating is from a first temperature to a...</td>\n      <td>394</td>\n    </tr>\n    <tr>\n      <th>45</th>\n      <td><a href=\"https://patents.google.com/patent/US20140291250\" target=\"_blank\">US20140291250</a></td>\n      <td>NANO-STRUCTURED COMPOSITE MATERIALS BASED ON COMPOSITIONS OF MANGANESE AND CERIUM, USABLE AS OXIDATION CATALYSTS AND/OR MOLECULAR ADSORBERS</td>\n      <td>The present invention concerns a nano-structured composite material based on compositions of manganese and cerium, composed of aggregated composite nanospheres, ranging in size from 1 to 40 nm, of...</td>\n      <td>375</td>\n    </tr>\n    <tr>\n      <th>46</th>\n      <td><a href=\"https://patents.google.com/patent/US4412872\" target=\"_blank\">US4412872</a></td>\n      <td>Process for manufacturing a component from a titanium alloy, as well as a component and the use thereof</td>\n      <td>A process for manufacturing a component from a mechanically unstable β-titanium alloy which exhibits 3 shape-related memory effects which all differ from one another: a one-way effect, a two-way...</td>\n      <td>342</td>\n    </tr>\n    <tr>\n      <th>47</th>\n      <td><a href=\"https://patents.google.com/patent/US20200395448\" target=\"_blank\">US20200395448</a></td>\n      <td>NON-EQUILIBRIUM POLARONIC QUANTUM PHASE-CONDENSATE BASED ELECTRICAL DEVICES</td>\n      <td>Electrical devices are disclosed. The devices include an insulating substrate. A UO2+x crystal or oriented crystal UO2+x film is on a first portion of the substrate. The UO2+x crystal or film...</td>\n      <td>275</td>\n    </tr>\n    <tr>\n      <th>48</th>\n      <td><a href=\"https://patents.google.com/patent/US20070095445\" target=\"_blank\">US20070095445</a></td>\n      <td>Ordered nanoenergetic composites and synthesis method</td>\n      <td>A structured, self-assembled nanoenergetic material is disclosed that includes a nanostructure comprising at least one of the group consisting of a fuel and an oxidizer and a plurality of...</td>\n      <td>268</td>\n    </tr>\n    <tr>\n      <th>49</th>\n      <td><a href=\"https://patents.google.com/patent/US20030183306\" target=\"_blank\">US20030183306</a></td>\n      <td>Selected processing for non-equilibrium light alloys and products</td>\n      <td>A new class of light or reactive elements and monophase α′-matrix magnesium- and aluminum-based alloys with superior engineering properties, for the latter being based on a homogeneous solute...</td>\n      <td>260</td>\n    </tr>\n    <tr>\n      <th>50</th>\n      <td><a href=\"https://patents.google.com/patent/US7927437\" target=\"_blank\">US7927437</a></td>\n      <td>Ordered nanoenergetic composites and synthesis method</td>\n      <td>A structured, self-assembled nanoenergetic material is disclosed that includes a nanostructure comprising at least one of the group consisting of a fuel and an oxidizer and a plurality of...</td>\n      <td>256</td>\n    </tr>\n    <tr>\n      <th>51</th>\n      <td><a href=\"https://patents.google.com/patent/US20070017803\" target=\"_blank\">US20070017803</a></td>\n      <td>Enhanced sputter target manufacturing method</td>\n      <td>A method of manufacturing a sputter target the method including the step of preparing a plurality of raw materials into a composition corresponding to alloy system, the plurality of raw materials...</td>\n      <td>254</td>\n    </tr>\n    <tr>\n      <th>52</th>\n      <td><a href=\"https://patents.google.com/patent/US20200031767\" target=\"_blank\">US20200031767</a></td>\n      <td>A PROCESS FOR SYNTHESIS OF MESOTRIONE</td>\n      <td>The present disclosure relates to a process for synthesis of mesotrione. The process comprises reacting 4-toluene sulfonyl chloride with alkali metal sulphite and alkali metal bicarbonate to...</td>\n      <td>227</td>\n    </tr>\n    <tr>\n      <th>53</th>\n      <td><a href=\"https://patents.google.com/patent/US11008285\" target=\"_blank\">US11008285</a></td>\n      <td>Process for synthesis of mesotrione</td>\n      <td>The present disclosure relates to a process for synthesis of mesotrione. The process comprises reacting 4-toluene sulfonyl chloride with alkali metal sulphite and alkali metal bicarbonate to...</td>\n      <td>227</td>\n    </tr>\n    <tr>\n      <th>54</th>\n      <td><a href=\"https://patents.google.com/patent/US20060068214\" target=\"_blank\">US20060068214</a></td>\n      <td>Erosion and wear resistant protective structures for turbine components</td>\n      <td>Disclosed herein is a turbine component comprising a substrate; and a protective structure formed on the substrate, wherein the protective structure comprises an α-β titanium alloy, a β-titanium...</td>\n      <td>172</td>\n    </tr>\n    <tr>\n      <th>55</th>\n      <td><a href=\"https://patents.google.com/patent/US20180119252\" target=\"_blank\">US20180119252</a></td>\n      <td>SELECTIVE SEPARATION OF ELEMENTS OR COMMODITIES OF INTEREST IN AQUEOUS STREAMS</td>\n      <td>A process for selectively separating a metallic constituent from other metals and other materials accompanying the metallic constituent in a mixture is described. The process comprises the step of...</td>\n      <td>164</td>\n    </tr>\n  </tbody>\n</table>"
     },
     "metadata": {}
    }
   ],
   "source": [
    "fpo.search_fpo(search_string,list_controls)"
   ]
  },
  {
   "cell_type": "code",
   "execution_count": null,
   "metadata": {},
   "outputs": [],
   "source": []
  }
 ],
 "metadata": {
  "kernelspec": {
   "name": "python3",
   "display_name": "Python 3.8.11 64-bit (conda)"
  },
  "language_info": {
   "codemirror_mode": {
    "name": "ipython",
    "version": 3
   },
   "file_extension": ".py",
   "mimetype": "text/x-python",
   "name": "python",
   "nbconvert_exporter": "python",
   "pygments_lexer": "ipython3",
   "version": "3.8.11"
  },
  "interpreter": {
   "hash": "ad66c5bf84c9f9a60828cec01b2615aba6d49030043a3ffec840747f90a31491"
  }
 },
 "nbformat": 4,
 "nbformat_minor": 5
}