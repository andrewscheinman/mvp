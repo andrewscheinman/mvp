{
 "cells": [
  {
   "cell_type": "markdown",
   "id": "1a41d107-cc91-4e27-bf09-5e3ba7f52018",
   "metadata": {},
   "source": [
    "# Jupyter Notebook to Search FreePatentsOnline.com"
   ]
  },
  {
   "cell_type": "markdown",
   "id": "dca5fa8e-7cb3-4af5-a913-7d846544c03f",
   "metadata": {},
   "source": [
    "This software is running a 'Jupyter Notebook' ([Jupyter](https://jupyter.org/)) using the free online platform 'Binder' ([Binder](https://mybinder.org/)).  This notebook and accompanying software is copyrighted by Andrew Scheinman and may not be distributed.\n",
    "\n",
    "You can 'run' all cells with the double arrow up at the top; you can run a single cell with CTRL-ENTER"
   ]
  },
  {
   "cell_type": "markdown",
   "id": "6c0f08ef-bf0a-4d44-be03-51d534fb9df6",
   "metadata": {},
   "source": [
    "The software used in this notebook works as follows:\n",
    "\n",
    "1. Devise a search string to search US published and issued patents, where the search string format is that of the underlying search platform, 'FreePatentsOnline' ([FPO Search Examples](https://www.freepatentsonline.com/search.html));\n",
    "2. Per FPO, 'Note that most fields support **Phrase (ABST/\"cardboard box\")**, **Proximity (ABST/\"cardboard box\"\\~5)**, **Wildcard (ABST/card\\*)**, and **Leading Wildcard (ABST/\\*ectomy)** queries. Some fields support range queries and math operations.'\n",
    "3. Inventor Search --> **'in/\"john smith\"'** ('john smith' in inventor ('in') field; **'in/\"john smith\"~5'** ('john' within 5 of 'smith' in inventor field);\n",
    "4. Term Search --> **'ectoplasm'** (term anywhere in patent application or issued US patent); **'aclm/ectoplasm'** (term in any of the claims ('aclm')); **'\"viscous ectoplasm\"\\~5'** (the two terms within 5 of one another); **'aclm/\"viscous ectoplasm\"\\~5'** (two terms within 5 within the claims);\n",
    "5. Specify the search_string and **any already-know 'relevant' US patent documents ('positive controls')** and run the search using the 'fpo.search_fpo(search_string,list_controls)' command (enclose the search string and individual control numbers in single quotes as shown below):\n",
    "\n",
    "```\n",
    "            search_string = 'aclm/\"viscous ectoplasm\"~5'\n",
    "            list_controls = ['20200321613','20200321614','20210130188']\n",
    "            fpo.search_fpo(search_string,list_controls)\n",
    "```"
   ]
  },
  {
   "cell_type": "markdown",
   "id": "25e0f461-e585-4f0c-ac44-03360777367b",
   "metadata": {},
   "source": [
    "# Run The Following"
   ]
  },
  {
   "cell_type": "markdown",
   "id": "a62a1f4a-4ba9-49f2-9b9e-fe9e82e94e72",
   "metadata": {},
   "source": [
    "1. Leave the next line unchanged; it's required to load the software"
   ]
  },
  {
   "cell_type": "code",
   "execution_count": 26,
   "id": "79c8a787-fdbe-48ac-b56f-69ede0f937b0",
   "metadata": {},
   "outputs": [],
   "source": [
    "import fpo_searching as fpo"
   ]
  },
  {
   "cell_type": "markdown",
   "id": "0b2d269c-1fea-44b8-b3a6-248aadc5abf3",
   "metadata": {},
   "source": [
    "2. Replace the search_string with your search string; make sure to use the enclosing single quotes.  See [FPO Search Examples](https://www.freepatentsonline.com/search.html) for example search syntaxes:"
   ]
  },
  {
   "cell_type": "code",
   "execution_count": 27,
   "id": "8f91b814-3e87-4f46-bc25-9901c438fd48",
   "metadata": {},
   "outputs": [],
   "source": [
    "search_string = 'aclm/metastable and aclm/vanadium'"
   ]
  },
  {
   "cell_type": "markdown",
   "id": "a4b7113f-cd5c-41f6-bef6-0ea223805e06",
   "metadata": {},
   "source": [
    "3. **Positive Controls** -- If there are no already-know 'relevant' US documents, use list_controls = []"
   ]
  },
  {
   "cell_type": "code",
   "execution_count": 28,
   "id": "76719bb1-970d-4578-9993-9874d470dc29",
   "metadata": {},
   "outputs": [],
   "source": [
    "list_controls = ['20200321613','20200321614','20210130188']"
   ]
  },
  {
   "cell_type": "markdown",
   "id": "7c94622b-3667-42a7-b584-f9e5547312bc",
   "metadata": {},
   "source": [
    "4. Running the next cell causes the program to go online and get the information, note that only the first 250 hits are downloaded and analyzed, and that the hits are in order of 'relevance'."
   ]
  },
  {
   "cell_type": "code",
   "execution_count": 29,
   "id": "7cf9a89c-e12f-4f52-8d6f-5423eaa7d538",
   "metadata": {},
   "outputs": [
    {
     "output_type": "stream",
     "name": "stdout",
     "text": [
      "... aclm/metastable and aclm/vanadium ... 55 hits\n",
      "(MAXIMUM HITS RETRIEVED FOR FURTHER PROCESSING AND DISPLAY IS \"TOP\" 250 HITS)\n",
      "20200321613 NOT hit\n",
      "20200321614 hit as result number: 8\n",
      "20210130188 hit as result number: 32\n"
     ]
    }
   ],
   "source": [
    "df, df_links = fpo.search_fpo(search_string,list_controls,'no')"
   ]
  },
  {
   "cell_type": "code",
   "execution_count": 31,
   "id": "3a38b54f-7005-420f-ad34-4a4c5404d02a",
   "metadata": {
    "tags": [
     "outputPrepend"
    ]
   },
   "outputs": [
    {
     "output_type": "stream",
     "name": "stdout",
     "text": [
      "he manufacture of wear-resistant white iron, and articles made therefrom. A melt is solidified that contains iron, carbon and at least two carbide forming elements...       781\n13  <a href=\"https://patents.google.com/patent/US20170100744\" target=\"_blank\">US20170100744</a>  20170100744                                                                           Electronic Component and Process of Producing Electronic Component    Electronic components and processes of producing electronic components are disclosed. The electronic component includes a substrate, a first layer on the substrate, a rapidly solidified layer on...       730\n14          <a href=\"https://patents.google.com/patent/US5421917\" target=\"_blank\">US5421917</a>      5421917                                                                                             Titanium-based alloy produced by vapor quenching            An alloy based on titanium and containing 0.5 to 30% by weight of magnesium, calcium or lithium is produced by vapor quenching to yield a metastable solid solution of solute in titanium....       702\n15          <a href=\"https://patents.google.com/patent/US8611133\" target=\"_blank\">US8611133</a>      8611133                                                                                            Stateful negative differential resistance devices  A stateful negative differential resistance device includes a first conductive electrode and a second conductive electrode. The device also includes a first material with a reversible, nonvolatile...       692\n16  <a href=\"https://patents.google.com/patent/US20130176766\" target=\"_blank\">US20130176766</a>  20130176766                                                                                            STATEFUL NEGATIVE DIFFERENTIAL RESISTANCE DEVICES  A stateful negative differential resistance device includes a first conductive electrode and a second conductive electrode. The device also includes a first material with a reversible, nonvolatile...       680\n17  <a href=\"https://patents.google.com/patent/US20130155572\" target=\"_blank\">US20130155572</a>  20130155572                                                                            Metal-Insulator-Metal Stack and Method for Manufacturing the Same      A method for manufacturing a metal-insulator-metal (MIM) stack is described. The method includes forming a temporary stack by depositing a bottom electrode comprising at least one metal layer;...       653\n18        <a href=\"https://patents.google.com/patent/US11104994\" target=\"_blank\">US11104994</a>     11104994            Nuclear component with metastable Cr coating, DLI-MOCVD method for producing same, and uses for controlling oxidation/hydridation        Process for manufacturing a nuclear component that includes i) a support containing a substrate based on a metal, the substrate being coated or not coated with an interposed layer positioned...       645\n19  <a href=\"https://patents.google.com/patent/US20150037231\" target=\"_blank\">US20150037231</a>  20150037231                                                                                      GAS STREAM MULTI-POLLUTANTS CONTROL SYSTEMS AND METHODS     In some embodiments, the invention provides systems and methods for removing carbon dioxide and/or additional components of waste gas streams, comprising contacting the waste gas stream with an...       644\n20          <a href=\"https://patents.google.com/patent/US4951297\" target=\"_blank\">US4951297</a>      4951297                                    Chemical process yielding stimulated emission of visible radiation via fast near resonant energy transfer   A chemical process yielding stimulated emission of visible radiation via fast rear resonant intermolecular energy transfer comprising the steps of reacting a first metal or semimetal vapor with a...       635\n21  <a href=\"https://patents.google.com/patent/US20190119770\" target=\"_blank\">US20190119770</a>  20190119770                            ULTRA HIGH-STRENGTH AND HIGH-DUCTILITY STEEL SHEET HAVING EXCELLENT YIELD RATIO AND MANUFACTURING METHOD THEREFOR   Provided is an ultrahigh-strength steel sheet for a vehicle and, more specifically, to an ultrahigh-strength and high-ductility steel sheet having excellent yield ratio and a manufacturing method...       625\n22  <a href=\"https://patents.google.com/patent/US20180186701\" target=\"_blank\">US20180186701</a>  20180186701                                                                                              CERAMIC COMPOSITE AND PRODUCTION METHOD THEREOF    A black ceramic composite coating is presented. The ceramic composite coating comprises a ceramic matrix having embedded therein carbide nanoparticles (in particular metal carbide nanoparticles)...       616\n23  <a href=\"https://patents.google.com/patent/US20140178747\" target=\"_blank\">US20140178747</a>  20140178747                                                      COMPOSITE ELECTRODE MATERIAL OF LITHIUM SECONDARY BATTERY AND LITHIUM SECONDARY BATTERY    A composite electrode material of a lithium secondary battery and a lithium secondary battery are provided. The composite electrode material of the lithium secondary battery at least includes an...       608\n24        <a href=\"https://patents.google.com/patent/US10710935\" target=\"_blank\">US10710935</a>     10710935                                                                                              Ceramic composite and production method thereof    A black ceramic composite coating is presented. The ceramic composite coating comprises a ceramic matrix having embedded therein carbide nanoparticles (in particular metal carbide nanoparticles)...       601\n25          <a href=\"https://patents.google.com/patent/US9496547\" target=\"_blank\">US9496547</a>      9496547                                                      Composite electrode material of lithium secondary battery and lithium secondary battery    A composite electrode material of a lithium secondary battery and a lithium secondary battery are provided. The composite electrode material of the lithium secondary battery at least includes an...       598\n26          <a href=\"https://patents.google.com/patent/US6380627\" target=\"_blank\">US6380627</a>      6380627                              Low resistance barrier layer for isolating, adhering, and passivating copper metal in semiconductor fabrication  Cubic or metastable cubic refractory metal carbides act as barrier layers to isolate, adhere, and passivate copper in semiconductor fabrication. One or more barrier layers of the metal carbide are...       588\n27          <a href=\"https://patents.google.com/patent/US5020071\" target=\"_blank\">US5020071</a>      5020071                                   Chemical process yielding stimulating emission of visible radiation via fast near resonant energy transfer  A laser oscillator at 535 nm produced by a chemical process yielding stimulated emission of visible radiation via fast near resonant intermolecular energy transfer comprising the steps of reacting...       583\n28  <a href=\"https://patents.google.com/patent/US20200020456\" target=\"_blank\">US20200020456</a>  20200020456                             COMPOSITE NUCLEAR COMPONENT, DLI-MOCVD METHOD FOR PRODUCING SAME, AND USES FOR CONTROLLING OXIDATION/HYDRIDATION   Process for manufacturing a composite nuclear component comprising i) a support containing a substrate comprising a metallic material and a ceramic material (1), the substrate (1) being coated or...       577\n29          <a href=\"https://patents.google.com/patent/US6339020\" target=\"_blank\">US6339020</a>      6339020                                                                                                           Method for forming a barrier layer  Cubic or metastable cubic refractory metal carbides act as barrier layers to isolate, adhere, and passivate copper in semiconductor fabrication. One or more barrier layers of the metal carbide are...       539\n30          <a href=\"https://patents.google.com/patent/US6028977\" target=\"_blank\">US6028977</a>      6028977                                                                                                       All-optical, flat-panel display system   An all-optical flat panel display system is based on the generation of photoluminescence within a doped, optical waveguide display matrix. Color photoluminescence is produced through an infrared,...       534\n31          <a href=\"https://patents.google.com/patent/US5138432\" target=\"_blank\">US5138432</a>      5138432                                                                                                    Selective deposition of tungsten on TiSi2                  An improved process for preparing selective deposition of conductive metals on disilicide encroachment barriers allows the construction of integrated circuit components wherein the...       520\n32  <a href=\"https://patents.google.com/patent/US20210130188\" target=\"_blank\">US20210130188</a>  20210130188                  <div class=\"alert-success\">QUANTUM MATERIAL/VANADIUM OXIDE HETEROSTRUCTURES, METHODS OF MAKING SAME, AND USES THEREOF</div>   The subject invention pertains to the synthesis and characterization of V2O5/CdE NW/QD heterostructures. The V2O5/CdE heterostructures are versatile new materials constructs for light harvesting,...       514\n33          <a href=\"https://patents.google.com/patent/US5352537\" target=\"_blank\">US5352537</a>      5352537                                                                              Plasma sprayed continuously reinforced aluminum base composites     A metal matrix composite is produced by forming a rapidly solidified aluminum base alloy into powder. The powder is plasma sprayed onto at least one substrate having thereon a fiber reinforcing...       498\n34          <a href=\"https://patents.google.com/patent/US5023201\" target=\"_blank\">US5023201</a>      5023201                                                                                                    Selective deposition of tungsten on TiSi2                  An improved process for preparing selective deposition of conductive metals on disilicide encroachment barriers allows the construction of integrated circuit components wherein the...       497\n35          <a href=\"https://patents.google.com/patent/US7611988\" target=\"_blank\">US7611988</a>      7611988                                                   Defectivity and process control of electroless deposition in microelectronics applications          Methods and compositions for electrolessly depositing Co, Ni, or alloys thereof onto a substrate in manufacture of microelectronic devices. Grain refiners, levelers, oxygen scavengers, and...       483\n36  <a href=\"https://patents.google.com/patent/US20080073004\" target=\"_blank\">US20080073004</a>  20080073004                                                    PROCESS OF USING A CHROMIUM STEEL AS RAW MATERIAL FOR CORROSION-RESISTANT SPRING ELEMENTS    A ferritic chromium steel comprising, by weight-%, 0.03 to 0.1% of carbon, 0.2 to 0.9% of silicon, 0.3 to 1% of manganese, 13 to 20% of chromium, up to 0.5% of nickel, 0.1 to 1.5% of molybdenum,...       470\n37  <a href=\"https://patents.google.com/patent/US20170338021\" target=\"_blank\">US20170338021</a>  20170338021           Beta tungsten thin films with giant spin Hall effect for use in compositions and structures with perpendicular magnetic anisotropy       Methods, devices, and compositions for use with spintronic devices such as magnetic random access memory (MRAM) and spin-logic devices are provided. Methods include manipulating magnetization...       470\n38  <a href=\"https://patents.google.com/patent/US20070062408\" target=\"_blank\">US20070062408</a>  20070062408                                                   Defectivity and process control of electroless deposition in microelectronics applications          Methods and compositions for electrolessly depositing Co, Ni, or alloys thereof onto a substrate in manufacture of microelectronic devices. Grain refiners, levelers, oxygen scavengers, and...       457\n39        <a href=\"https://patents.google.com/patent/US10907230\" target=\"_blank\">US10907230</a>     10907230                            Ultra high-strength and high-ductility steel sheet having excellent yield ratio and manufacturing method therefor   Provided is an ultrahigh-strength steel sheet for a vehicle and, more specifically, to an ultrahigh-strength and high-ductility steel sheet having excellent yield ratio and a manufacturing method...       433\n40          <a href=\"https://patents.google.com/patent/US7575418\" target=\"_blank\">US7575418</a>      7575418                                                                      Erosion and wear resistant protective structures for turbine components    Disclosed herein is a turbine component comprising a substrate; and a protective structure formed on the substrate, wherein the protective structure comprises an α-β titanium alloy, a β-titanium...       431\n41          <a href=\"https://patents.google.com/patent/US4160854\" target=\"_blank\">US4160854</a>      4160854                                                                                                    Ductile brazing foil for cast superalloys  Cast superalloys of the formula Px Qy Rz wherein P is an element selected from the group consisting of Fe, Ni, Cr, Co or mixtures thereof, wherein Q is a refractory element selected from the group...       426\n42          <a href=\"https://patents.google.com/patent/US6414247\" target=\"_blank\">US6414247</a>      6414247                                                                                                                          Glass ceramic board         A glass ceramic multilayer circuit board uses Ag as a conductive material, in which oxidation and diffusion of silver are suppressed. The glass ceramic multilayer circuit board is formed by...       421\n43          <a href=\"https://patents.google.com/patent/US9431474\" target=\"_blank\">US9431474</a>      9431474                                                                            Metal-insulator-metal stack and method for manufacturing the same      A method for manufacturing a metal-insulator-metal (MIM) stack is described. The method includes forming a temporary stack by depositing a bottom electrode comprising at least one metal layer;...       408\n44  <a href=\"https://patents.google.com/patent/US20060105194\" target=\"_blank\">US20060105194</a>  20060105194                                                                                                  Defect healing of deposited titanium alloys  A method for treating a deposited titanium-base material from an initial condition to a treated condition includes a rapid heating and a rapid cooling. The heating is from a first temperature to a...       394\n45  <a href=\"https://patents.google.com/patent/US20140291250\" target=\"_blank\">US20140291250</a>  20140291250  NANO-STRUCTURED COMPOSITE MATERIALS BASED ON COMPOSITIONS OF MANGANESE AND CERIUM, USABLE AS OXIDATION CATALYSTS AND/OR MOLECULAR ADSORBERS  The present invention concerns a nano-structured composite material based on compositions of manganese and cerium, composed of aggregated composite nanospheres, ranging in size from 1 to 40 nm, of...       375\n46          <a href=\"https://patents.google.com/patent/US4412872\" target=\"_blank\">US4412872</a>      4412872                                      Process for manufacturing a component from a titanium alloy, as well as a component and the use thereof    A process for manufacturing a component from a mechanically unstable β-titanium alloy which exhibits 3 shape-related memory effects which all differ from one another: a one-way effect, a two-way...       342\n47  <a href=\"https://patents.google.com/patent/US20200395448\" target=\"_blank\">US20200395448</a>  20200395448                                                                  NON-EQUILIBRIUM POLARONIC QUANTUM PHASE-CONDENSATE BASED ELECTRICAL DEVICES       Electrical devices are disclosed. The devices include an insulating substrate. A UO2+x crystal or oriented crystal UO2+x film is on a first portion of the substrate. The UO2+x crystal or film...       275\n48  <a href=\"https://patents.google.com/patent/US20070095445\" target=\"_blank\">US20070095445</a>  20070095445                                                                                        Ordered nanoenergetic composites and synthesis method           A structured, self-assembled nanoenergetic material is disclosed that includes a nanostructure comprising at least one of the group consisting of a fuel and an oxidizer and a plurality of...       268\n49  <a href=\"https://patents.google.com/patent/US20030183306\" target=\"_blank\">US20030183306</a>  20030183306                                                                            Selected processing for non-equilibrium light alloys and products       A new class of light or reactive elements and monophase α′-matrix magnesium- and aluminum-based alloys with superior engineering properties, for the latter being based on a homogeneous solute...       260\n50          <a href=\"https://patents.google.com/patent/US7927437\" target=\"_blank\">US7927437</a>      7927437                                                                                        Ordered nanoenergetic composites and synthesis method           A structured, self-assembled nanoenergetic material is disclosed that includes a nanostructure comprising at least one of the group consisting of a fuel and an oxidizer and a plurality of...       256\n51  <a href=\"https://patents.google.com/patent/US20070017803\" target=\"_blank\">US20070017803</a>  20070017803                                                                                                 Enhanced sputter target manufacturing method   A method of manufacturing a sputter target the method including the step of preparing a plurality of raw materials into a composition corresponding to alloy system, the plurality of raw materials...       254\n52  <a href=\"https://patents.google.com/patent/US20200031767\" target=\"_blank\">US20200031767</a>  20200031767                                                                                                        A PROCESS FOR SYNTHESIS OF MESOTRIONE        The present disclosure relates to a process for synthesis of mesotrione. The process comprises reacting 4-toluene sulfonyl chloride with alkali metal sulphite and alkali metal bicarbonate to...       227\n53        <a href=\"https://patents.google.com/patent/US11008285\" target=\"_blank\">US11008285</a>     11008285                                                                                                          Process for synthesis of mesotrione        The present disclosure relates to a process for synthesis of mesotrione. The process comprises reacting 4-toluene sulfonyl chloride with alkali metal sulphite and alkali metal bicarbonate to...       227\n54  <a href=\"https://patents.google.com/patent/US20060068214\" target=\"_blank\">US20060068214</a>  20060068214                                                                      Erosion and wear resistant protective structures for turbine components    Disclosed herein is a turbine component comprising a substrate; and a protective structure formed on the substrate, wherein the protective structure comprises an α-β titanium alloy, a β-titanium...       172\n55  <a href=\"https://patents.google.com/patent/US20180119252\" target=\"_blank\">US20180119252</a>  20180119252                                                               SELECTIVE SEPARATION OF ELEMENTS OR COMMODITIES OF INTEREST IN AQUEOUS STREAMS  A process for selectively separating a metallic constituent from other metals and other materials accompanying the metallic constituent in a mixture is described. The process comprises the step of...       164\n"
     ]
    }
   ],
   "source": [
    "print(df_links)"
   ]
  },
  {
   "cell_type": "code",
   "execution_count": null,
   "metadata": {},
   "outputs": [],
   "source": []
  }
 ],
 "metadata": {
  "kernelspec": {
   "name": "python3",
   "display_name": "Python 3.8.11 64-bit (conda)"
  },
  "language_info": {
   "codemirror_mode": {
    "name": "ipython",
    "version": 3
   },
   "file_extension": ".py",
   "mimetype": "text/x-python",
   "name": "python",
   "nbconvert_exporter": "python",
   "pygments_lexer": "ipython3",
   "version": "3.8.11"
  },
  "interpreter": {
   "hash": "ad66c5bf84c9f9a60828cec01b2615aba6d49030043a3ffec840747f90a31491"
  }
 },
 "nbformat": 4,
 "nbformat_minor": 5
}